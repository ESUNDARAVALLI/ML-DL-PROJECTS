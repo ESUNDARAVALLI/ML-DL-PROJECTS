{
  "nbformat": 4,
  "nbformat_minor": 0,
  "metadata": {
    "colab": {
      "provenance": []
    },
    "kernelspec": {
      "name": "python3",
      "display_name": "Python 3"
    },
    "language_info": {
      "name": "python"
    }
  },
  "cells": [
    {
      "cell_type": "code",
      "source": [
        "!pip install torch torchvision scikit-learn pandas --quiet\n",
        "\n",
        "import pandas as pd\n",
        "import numpy as np\n",
        "from sklearn.model_selection import train_test_split\n",
        "from sklearn.preprocessing import LabelEncoder, StandardScaler\n",
        "from sklearn.metrics import accuracy_score\n",
        "import torch\n",
        "import torch.nn as nn\n",
        "import torch.nn.functional as F\n",
        "from torch.utils.data import DataLoader, TensorDataset\n",
        "\n",
        "# Load and preprocess data\n",
        "df = pd.read_csv('HOUSEHOLD_E-WASTE_ENV_RISK.csv')\n",
        "target = 'Risk_Level'\n",
        "\n",
        "le = LabelEncoder()\n",
        "df[target] = le.fit_transform(df[target])\n",
        "y = df[target].values\n",
        "\n",
        "cat_cols = df.select_dtypes(include='object').columns.tolist()\n",
        "cat_cols = [col for col in cat_cols if col != target]\n",
        "df = pd.get_dummies(df, columns=cat_cols)\n",
        "\n",
        "X = df.drop(columns=[target])\n",
        "scaler = StandardScaler()\n",
        "X = scaler.fit_transform(X)\n",
        "\n",
        "X_train, X_test, y_train, y_test = train_test_split(X, y, test_size=0.2, random_state=42)\n",
        "\n",
        "X_train_tensor = torch.tensor(X_train, dtype=torch.float32)\n",
        "y_train_tensor = torch.tensor(y_train, dtype=torch.long)\n",
        "X_test_tensor = torch.tensor(X_test, dtype=torch.float32)\n",
        "y_test_tensor = torch.tensor(y_test, dtype=torch.long)\n",
        "\n",
        "train_dataset = TensorDataset(X_train_tensor, y_train_tensor)\n",
        "train_loader = DataLoader(train_dataset, batch_size=32, shuffle=True)\n",
        "\n",
        "# Define model\n",
        "class SimpleNet(nn.Module):\n",
        "    def __init__(self, input_dim):\n",
        "        super(SimpleNet, self).__init__()\n",
        "        self.fc1 = nn.Linear(input_dim, 128)\n",
        "        self.dropout1 = nn.Dropout(0.3)\n",
        "        self.fc2 = nn.Linear(128, 64)\n",
        "        self.dropout2 = nn.Dropout(0.3)\n",
        "        self.fc3 = nn.Linear(64, 3)\n",
        "\n",
        "    def forward(self, x):\n",
        "        x = F.relu(self.fc1(x))\n",
        "        x = self.dropout1(x)\n",
        "        x = F.relu(self.fc2(x))\n",
        "        x = self.dropout2(x)\n",
        "        x = self.fc3(x)\n",
        "        return x\n",
        "\n",
        "model = SimpleNet(X_train.shape[1])\n",
        "device = torch.device('cuda' if torch.cuda.is_available() else 'cpu')\n",
        "model.to(device)\n",
        "\n",
        "# Train model\n",
        "optimizer = torch.optim.Adam(model.parameters(), lr=1e-3)\n",
        "criterion = nn.CrossEntropyLoss()\n",
        "\n",
        "for epoch in range(50):\n",
        "    model.train()\n",
        "    for xb, yb in train_loader:\n",
        "        xb, yb = xb.to(device), yb.to(device)\n",
        "        pred = model(xb)\n",
        "        loss = criterion(pred, yb)\n",
        "        optimizer.zero_grad()\n",
        "        loss.backward()\n",
        "        optimizer.step()\n",
        "    print(f\"Epoch {epoch+1}/50 - Loss: {loss.item():.4f}\")\n",
        "\n",
        "# Evaluate\n",
        "model.eval()\n",
        "with torch.no_grad():\n",
        "    X_test_tensor = X_test_tensor.to(device)\n",
        "    outputs = model(X_test_tensor)\n",
        "    preds = torch.argmax(outputs, axis=1).cpu().numpy()\n",
        "\n",
        "print(\"PyTorch DL Accuracy:\", accuracy_score(y_test, preds))\n"
      ],
      "metadata": {
        "colab": {
          "base_uri": "https://localhost:8080/"
        },
        "id": "wgEyZ-kD5B9m",
        "outputId": "20986fb6-8a77-4398-f919-e6fc4c5eb992"
      },
      "execution_count": null,
      "outputs": [
        {
          "output_type": "stream",
          "name": "stdout",
          "text": [
            "Epoch 1/50 - Loss: 0.8159\n",
            "Epoch 2/50 - Loss: 1.1459\n",
            "Epoch 3/50 - Loss: 0.6866\n",
            "Epoch 4/50 - Loss: 0.4836\n",
            "Epoch 5/50 - Loss: 0.4887\n",
            "Epoch 6/50 - Loss: 0.4287\n",
            "Epoch 7/50 - Loss: 0.2329\n",
            "Epoch 8/50 - Loss: 0.4417\n",
            "Epoch 9/50 - Loss: 0.1281\n",
            "Epoch 10/50 - Loss: 0.1794\n",
            "Epoch 11/50 - Loss: 0.0981\n",
            "Epoch 12/50 - Loss: 0.2485\n",
            "Epoch 13/50 - Loss: 0.0809\n",
            "Epoch 14/50 - Loss: 0.1018\n",
            "Epoch 15/50 - Loss: 0.1116\n",
            "Epoch 16/50 - Loss: 0.0445\n",
            "Epoch 17/50 - Loss: 0.0672\n",
            "Epoch 18/50 - Loss: 0.1790\n",
            "Epoch 19/50 - Loss: 0.0448\n",
            "Epoch 20/50 - Loss: 0.0065\n",
            "Epoch 21/50 - Loss: 0.0774\n",
            "Epoch 22/50 - Loss: 0.0136\n",
            "Epoch 23/50 - Loss: 0.0199\n",
            "Epoch 24/50 - Loss: 0.0172\n",
            "Epoch 25/50 - Loss: 0.0189\n",
            "Epoch 26/50 - Loss: 0.0209\n",
            "Epoch 27/50 - Loss: 0.0464\n",
            "Epoch 28/50 - Loss: 0.0528\n",
            "Epoch 29/50 - Loss: 0.0374\n",
            "Epoch 30/50 - Loss: 0.0182\n",
            "Epoch 31/50 - Loss: 0.0214\n",
            "Epoch 32/50 - Loss: 0.0300\n",
            "Epoch 33/50 - Loss: 0.0080\n",
            "Epoch 34/50 - Loss: 0.0406\n",
            "Epoch 35/50 - Loss: 0.0060\n",
            "Epoch 36/50 - Loss: 0.0185\n",
            "Epoch 37/50 - Loss: 0.0062\n",
            "Epoch 38/50 - Loss: 0.0221\n",
            "Epoch 39/50 - Loss: 0.1952\n",
            "Epoch 40/50 - Loss: 0.0023\n",
            "Epoch 41/50 - Loss: 0.0019\n",
            "Epoch 42/50 - Loss: 0.0577\n",
            "Epoch 43/50 - Loss: 0.0021\n",
            "Epoch 44/50 - Loss: 0.0120\n",
            "Epoch 45/50 - Loss: 0.1267\n",
            "Epoch 46/50 - Loss: 0.0155\n",
            "Epoch 47/50 - Loss: 0.0107\n",
            "Epoch 48/50 - Loss: 0.0588\n",
            "Epoch 49/50 - Loss: 0.0023\n",
            "Epoch 50/50 - Loss: 0.0028\n",
            "PyTorch DL Accuracy: 0.9512195121951219\n"
          ]
        }
      ]
    },
    {
      "cell_type": "code",
      "source": [
        "from sklearn.metrics import classification_report, confusion_matrix\n",
        "\n",
        "# Evaluate\n",
        "model.eval()\n",
        "with torch.no_grad():\n",
        "    X_test_tensor = X_test_tensor.to(device)\n",
        "    outputs = model(X_test_tensor)\n",
        "    preds = torch.argmax(outputs, axis=1).cpu().numpy()\n",
        "\n",
        "# Accuracy\n",
        "print(\"PyTorch DL Accuracy:\", accuracy_score(y_test, preds))\n",
        "\n",
        "# Classification report\n",
        "print(\"\\nClassification Report:\")\n",
        "print(classification_report(y_test, preds, target_names=le.classes_))\n",
        "\n",
        "# Confusion matrix\n",
        "print(\"\\nConfusion Matrix:\")\n",
        "print(confusion_matrix(y_test, preds))\n"
      ],
      "metadata": {
        "colab": {
          "base_uri": "https://localhost:8080/"
        },
        "id": "qHAQ1HcI6GGo",
        "outputId": "0c0ab988-cddb-4ae5-a96d-a2fd8d5f4fba"
      },
      "execution_count": null,
      "outputs": [
        {
          "output_type": "stream",
          "name": "stdout",
          "text": [
            "PyTorch DL Accuracy: 0.9512195121951219\n",
            "\n",
            "Classification Report:\n",
            "              precision    recall  f1-score   support\n",
            "\n",
            "        High       0.80      1.00      0.89        16\n",
            "         Low       0.91      1.00      0.95        21\n",
            "    Moderate       1.00      0.93      0.96        86\n",
            "\n",
            "    accuracy                           0.95       123\n",
            "   macro avg       0.90      0.98      0.94       123\n",
            "weighted avg       0.96      0.95      0.95       123\n",
            "\n",
            "\n",
            "Confusion Matrix:\n",
            "[[16  0  0]\n",
            " [ 0 21  0]\n",
            " [ 4  2 80]]\n"
          ]
        }
      ]
    },
    {
      "cell_type": "code",
      "source": [
        "import seaborn as sns\n",
        "import matplotlib.pyplot as plt\n",
        "\n",
        "cm = confusion_matrix(y_test, preds)\n",
        "labels = le.classes_\n",
        "\n",
        "plt.figure(figsize=(6, 5))\n",
        "sns.heatmap(cm, annot=True, fmt='d', cmap='Blues', xticklabels=labels, yticklabels=labels)\n",
        "plt.xlabel('Predicted')\n",
        "plt.ylabel('Actual')\n",
        "plt.title('Confusion Matrix - DL Model')\n",
        "plt.tight_layout()\n",
        "plt.show()\n"
      ],
      "metadata": {
        "colab": {
          "base_uri": "https://localhost:8080/",
          "height": 507
        },
        "id": "JN3OXVzY6PYj",
        "outputId": "4ceaf30f-f7ab-4ee0-d687-a5723ff357e1"
      },
      "execution_count": null,
      "outputs": [
        {
          "output_type": "display_data",
          "data": {
            "text/plain": [
              "<Figure size 600x500 with 2 Axes>"
            ],
            "image/png": "[encoded data removed]"
          },
          "metadata": {}
        }
      ]
    }
  ]
}